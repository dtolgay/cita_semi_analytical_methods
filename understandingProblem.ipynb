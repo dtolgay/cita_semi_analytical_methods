{
 "cells": [
  {
   "cell_type": "code",
   "execution_count": 1,
   "metadata": {},
   "outputs": [],
   "source": [
    "# Imported modules\n",
    "import sys\n",
    "sys.path.append(\"/mnt/raid-cita/dtolgay/FIRE/post_processing_fire_outputs\")\n",
    "from tools import constants\n",
    "\n",
    "import pandas as pd \n",
    "import numpy as np \n",
    "\n",
    "import sys # To run the batch script\n",
    "\n",
    "import os # To check if file exists.\n",
    "\n",
    "from matplotlib.colors import LogNorm\n",
    "import matplotlib.pyplot as plt "
   ]
  },
  {
   "cell_type": "code",
   "execution_count": 2,
   "metadata": {},
   "outputs": [],
   "source": [
    "def h2_mass_fraction_calculator(\n",
    "    local_density_scale_height, \n",
    "    density, \n",
    "    metallicity, \n",
    "    clumping_factor\n",
    "):\n",
    "\n",
    "    print(\"I am in the function h2_mass_fraction_calculator\") \n",
    "\n",
    "\n",
    "    \"\"\"This function is used to calculate the H2 mass fraction by using the formula 1 in the paper:\n",
    "    A Comparison of Methods for Determining the Molecular Content of Model Galaxies by Krumholz, and Gnedin (2011)\n",
    "\n",
    "    Arguments:\n",
    "    ----------\n",
    "    local_density_scale_height: array_like\n",
    "        In this equation smooting length of the gas is assumed to be accurate estimation of the local density scale height. \n",
    "        Therefore smooting length is used instead of local density scale height\n",
    "        [pc]\n",
    "\n",
    "    density: array_like\n",
    "        Density of the gas particles\n",
    "        [gr / cm^3]\n",
    "\n",
    "    metallicity: array_like\n",
    "        metallicity of the gas particles \n",
    "        [Zsolar]\n",
    "\n",
    "    clumping_factor: double or int\n",
    "        It is a parameter to boost the h2 mass fraction and therefore h2 column density and CO luminosity\n",
    "        [unitless]\n",
    "\n",
    "    Returns:\n",
    "    ----------\n",
    "    h2_mass_fraction: array_like\n",
    "        h2_mass_fraction = h2_gas_mass / total_gas_mass\n",
    "        [unitless]\n",
    "\n",
    "    column_density: array_like\n",
    "        It is the column density considering all elements in the gas particle\n",
    "        [gr/cm^2]\n",
    "\n",
    "    dust_optical_depth: array_like  \n",
    "        tau_c in the reference paper. It was being output in order to control the code\n",
    "        [unitless]\n",
    "\n",
    "    References: \n",
    "    -----------\n",
    "    A Comparison of Methods for Determining the Molecular Content of Model Galaxies by Krumholz, and Gnedin (2011)\n",
    "\n",
    "    \"\"\" \n",
    "\n",
    "\n",
    "    # The units of local_density_scale_height is kpc \n",
    "    local_density_scale_height = local_density_scale_height * constants.pc2cm  # [cm]\n",
    "\n",
    "    # Calculation of column density \n",
    "    column_density = density * local_density_scale_height   # [gr / cm^2]\n",
    "    # Column density is the summation sign in the paper\n",
    "    # Gunjan assumed that local density scale height is same with the smoooting length of the gas particles. I will continue on this assumption\n",
    "    # but I don't know how it works\n",
    "\n",
    "    # Calculation of dust cross section (sigma_d in txhe paper)\n",
    "    dust_cross_section_per_H_nucleus_normalized_to_1eminus21 = metallicity\n",
    "    dust_cross_section = dust_cross_section_per_H_nucleus_normalized_to_1eminus21 * 1e-21   # [cm^2]\n",
    "\n",
    "\n",
    "    # Calculation of dust optical depth (tau_c in the paper)\n",
    "    # mu_h is the mean mass per H nucleus\n",
    "    mu_h = 2.3e-24  # [gr] \n",
    "    # clumping factor is used to increase the H2 formation to account for density inhomogeneities that are unresolved on the computational grid\n",
    "    # since the H2 formation rate varies as the square of density, these inhomogeneities increase the overall rate\n",
    "    dust_optical_depth = column_density * dust_cross_section / mu_h     # [dimensionless]   \n",
    "\n",
    "    # Calculation for scaled radiation field (chi in the paper) Eq 4 \n",
    "    # This scaled radiation field will not likely to hold cell-by-cell every time step, but it should hold on average\n",
    "    # clumping factor is used to boost the formation rate of the H2 molecules on dust grains (the R term)   \n",
    "    scaled_radiation_field = 3.1 * (1 + 3.1 * metallicity**0.365) / (4.1 * clumping_factor)  # [dimensionless]\n",
    "\n",
    "    # Calculation for s in the paper (Eq 2)\n",
    "    s = np.log(1 + 0.6*scaled_radiation_field + 0.01 * np.power(scaled_radiation_field,2)) / ( 0.6 * dust_optical_depth )\n",
    "\n",
    "    # Calculation for the H2 mass fraction (f_H2 in the paper Eq 1)\n",
    "    h2_mass_fraction = 1 - (3/4) * (s / (1 + 0.25*s))   # [dimensionless]\n",
    "    h2_mass_fraction[h2_mass_fraction < 0] = 0      # If the result is negative set it to zero\n",
    "    \n",
    "    # Set inf values to NaN\n",
    "    # Replace inf/-inf with NaN\n",
    "    h2_mass_fraction[np.isinf(h2_mass_fraction)] = np.nan\n",
    "    column_density[np.isinf(column_density)] = np.nan    \n",
    "    dust_optical_depth[np.isinf(dust_optical_depth)] = np.nan    \n",
    "    scaled_radiation_field[np.isinf(scaled_radiation_field)] = np.nan    \n",
    "    dust_optical_depth[np.isinf(dust_optical_depth)] = np.nan    \n",
    "    \n",
    "    return h2_mass_fraction, column_density, dust_optical_depth, scaled_radiation_field, s, dust_optical_depth\n",
    "\n",
    "\n",
    "\n",
    "def X_co_calculator(\n",
    "    h2_column_density, \n",
    "    metallicity, \n",
    "):\n",
    "    print(\"I am in the function X_co_calculator\")\n",
    "\n",
    "    \"\"\"This function is being used in order to calculate the X_co for each annulus\n",
    "\n",
    "    Arguments:\n",
    "    ----------\n",
    "    h2_column_density: array-like\n",
    "        h2_column_density for each particle \n",
    "        [gr/cm^2]\n",
    "\n",
    "    metallicity: array-like\n",
    "        [Zsolar]\n",
    "\n",
    "    Returns:\n",
    "    ----------\n",
    "    X_co: vector \n",
    "        CO conversion factor for each particle\n",
    "        [cm^-2 /K-km s^-1]\n",
    "        \n",
    "    X_co_solar_metallicity: vector\n",
    "        X_co when metallicity is set to solar metallicity\n",
    "        [cm^-2 /K-km s^-1]\n",
    "\n",
    "    References: \n",
    "    -----------\n",
    "    A general model for the CO-H2 conversion factor in galaxies with applications to the star formation law. (Narayanan et al. 2012)\n",
    "\n",
    "    \"\"\" \n",
    "\n",
    "\n",
    "    h2_column_density = h2_column_density * constants.gr2M_sun / (constants.cm2pc)**2   \n",
    "    # h2_column_density [M_sun/pc^2]\n",
    "\n",
    "    # A general model for the CO-H2 conversion factor in galaxies with applications to the star formation law. (Narayanan et al. 2012)\n",
    "    # Eq 6 \n",
    "\n",
    "    X_co = 1.3e21/(metallicity * h2_column_density**0.5) #[cm^-2 /K-km s^-1]\n",
    "\n",
    "    ####    \n",
    "\n",
    "    X_co_solar_metallicity = 1.3e21/(constants.solar_metallicity * h2_column_density**0.5) #[cm^-2 /K-km s^-1]\n",
    "\n",
    "    # Set inf values to NaN\n",
    "    # Replace inf/-inf with NaN\n",
    "    X_co[np.isinf(X_co)] = np.nan\n",
    "    X_co_solar_metallicity[np.isinf(X_co_solar_metallicity)] = np.nan\n",
    "    \n",
    "    \n",
    "    return X_co, X_co_solar_metallicity\n",
    "\n"
   ]
  },
  {
   "cell_type": "code",
   "execution_count": 3,
   "metadata": {},
   "outputs": [
    {
     "data": {
      "text/plain": [
       "'/mnt/raid-cita/dtolgay/FIRE/post_processing_fire_outputs/skirt/runs_hden_radius/zoom_in/z3.0/m12i_res7100_md/voronoi_1e6'"
      ]
     },
     "execution_count": 3,
     "metadata": {},
     "output_type": "execute_result"
    }
   ],
   "source": [
    "# galaxy_name = \"gal20\"\n",
    "# galaxy_type = \"firebox\"\n",
    "# redshift = \"3.0\"\n",
    "\n",
    "galaxy_name = \"m12i_res7100_md\"\n",
    "galaxy_type = \"zoom_in\"\n",
    "redshift = \"3.0\"\n",
    "\n",
    "# Read cloudy_gas_txt \n",
    "run_dir = \"voronoi_1e6\"\n",
    "cloudy_gas_particles_file_directory = f\"/mnt/raid-cita/dtolgay/FIRE/post_processing_fire_outputs/skirt/runs_hden_radius/{galaxy_type}/z{redshift}/{galaxy_name}/{run_dir}\" \n",
    "\n",
    "cloudy_gas_particles_file_directory"
   ]
  },
  {
   "cell_type": "code",
   "execution_count": 4,
   "metadata": {},
   "outputs": [],
   "source": [
    "# Define the column names based on your description\n",
    "gas_column_names = [\n",
    "    \"x\", \n",
    "    \"y\", \n",
    "    \"z\", \n",
    "    \"smoothing_length\", \n",
    "    \"mass\", \n",
    "    \"metallicity\", # Zsolar but will be converted to mass fraction in the future\n",
    "    \"temperature\", \n",
    "    \"vx\", \n",
    "    \"vy\", \n",
    "    \"vz\", \n",
    "    \"hden\", \n",
    "    \"radius\", \n",
    "    \"sfr\", \n",
    "    \"turbulence\", \n",
    "    \"density\", \n",
    "    \"mu_theoretical\", \n",
    "    \"average_sobolev_smoothingLength\",\n",
    "    \"index\", \n",
    "    \"isrf\"\n",
    "]\n",
    "\n",
    "\n",
    "gas_particles_df = pd.read_csv(\n",
    "    f\"{cloudy_gas_particles_file_directory}/cloudy_gas_particles.txt\",\n",
    "    delim_whitespace=True, \n",
    "    comment='#', \n",
    "    names=gas_column_names\n",
    ")\n"
   ]
  },
  {
   "cell_type": "code",
   "execution_count": null,
   "metadata": {},
   "outputs": [],
   "source": []
  },
  {
   "cell_type": "code",
   "execution_count": 5,
   "metadata": {},
   "outputs": [],
   "source": [
    "# hden_condition = gas_particles_df['density'] / (constants.proton_mass * constants.kg2g * constants.mu_h) >= 1e3\n",
    "\n",
    "\n",
    "# bins = np.linspace(start=-3, stop=4, num=100)\n",
    "# plt.hist(np.log10(gas_particles_df['hden']), bins=bins)\n",
    "# plt.hist(np.log10(gas_particles_df[hden_condition]['hden']), bins=bins)\n",
    "# plt.show()\n",
    "\n",
    "\n",
    "# bins = np.linspace(start=0, stop=0.4, num=100)\n",
    "# plt.hist(gas_particles_df['sfr'], bins=bins)\n",
    "# plt.hist(gas_particles_df[hden_condition]['sfr'], bins=bins)\n",
    "# plt.yscale(\"log\")\n",
    "# plt.show()\n",
    "\n"
   ]
  },
  {
   "cell_type": "markdown",
   "metadata": {},
   "source": [
    "# f_H2"
   ]
  },
  {
   "cell_type": "code",
   "execution_count": 6,
   "metadata": {},
   "outputs": [
    {
     "name": "stdout",
     "output_type": "stream",
     "text": [
      "I am in the function h2_mass_fraction_calculator\n"
     ]
    }
   ],
   "source": [
    "h2_mass_fraction, gas_column_density, dust_optical_depth, scaled_radiation_field, s, dust_optical_depth = h2_mass_fraction_calculator(\n",
    "    local_density_scale_height = np.array(gas_particles_df[\"average_sobolev_smoothingLength\"]), # pc\n",
    "    density = np.array(gas_particles_df[\"density\"]), # gr / cm^3\n",
    "    metallicity= np.array(gas_particles_df[\"metallicity\"]),  # Zsolar\n",
    "    clumping_factor = 1\n",
    ")\n",
    "gas_particles_df[\"fh2\"] = h2_mass_fraction\n",
    "gas_particles_df[\"Mh2\"] = gas_particles_df[\"mass\"] * gas_particles_df[\"fh2\"]\n",
    "\n"
   ]
  },
  {
   "cell_type": "code",
   "execution_count": 7,
   "metadata": {},
   "outputs": [],
   "source": [
    "gunjan_fh2 = np.loadtxt(\"gunjan/gunjan_m12i_res7100_md_fh2.txt\")"
   ]
  },
  {
   "cell_type": "code",
   "execution_count": 8,
   "metadata": {},
   "outputs": [
    {
     "data": {
      "image/png": "[encoded data removed]",
      "text/plain": [
       "<Figure size 432x288 with 1 Axes>"
      ]
     },
     "metadata": {
      "needs_background": "light"
     },
     "output_type": "display_data"
    }
   ],
   "source": [
    "bins = np.linspace(0,1,100)\n",
    "plt.hist(h2_mass_fraction, bins=bins)\n",
    "plt.hist(gunjan_fh2, bins=bins, alpha=0.5)\n",
    "plt.xlabel(\"fh2\")\n",
    "plt.ylabel(\"count\")\n",
    "plt.yscale(\"log\")\n",
    "plt.show()\n",
    "\n",
    "\n",
    "# bins = np.linspace(0.5,4,100)\n",
    "# plt.hist(np.log10(gas_particles_df[\"smoothing_length\"]), bins=bins)\n",
    "# plt.xlabel(\"smoothing_length log10(pc)\")\n",
    "# plt.ylabel(\"count\")\n",
    "# plt.yscale(\"log\")\n",
    "# plt.show()\n",
    "\n",
    "\n",
    "# plt.hist(dust_optical_depth)\n",
    "# plt.xlabel(\"optical depth\")\n",
    "# plt.ylabel(\"count\")\n",
    "# plt.yscale(\"log\")\n",
    "# plt.show()\n",
    "\n"
   ]
  },
  {
   "cell_type": "code",
   "execution_count": 9,
   "metadata": {},
   "outputs": [
    {
     "data": {
      "text/plain": [
       "True"
      ]
     },
     "execution_count": 9,
     "metadata": {},
     "output_type": "execute_result"
    }
   ],
   "source": [
    "\n",
    "len(gunjan_fh2) < len(h2_mass_fraction)"
   ]
  },
  {
   "cell_type": "code",
   "execution_count": 10,
   "metadata": {},
   "outputs": [
    {
     "data": {
      "image/png": "[encoded data removed]",
      "text/plain": [
       "<Figure size 432x288 with 1 Axes>"
      ]
     },
     "metadata": {
      "needs_background": "light"
     },
     "output_type": "display_data"
    }
   ],
   "source": [
    "plt.hist2d(\n",
    "    x = gas_particles_df[\"x\"], \n",
    "    y = gas_particles_df[\"y\"], \n",
    "    bins = 1024, \n",
    "    norm = LogNorm()\n",
    ")\n",
    "plt.show()"
   ]
  },
  {
   "cell_type": "code",
   "execution_count": 11,
   "metadata": {},
   "outputs": [
    {
     "name": "stdout",
     "output_type": "stream",
     "text": [
      "Total sfr: 2.5 Msolar / year\n",
      "Total gas mass: 12.81 E9\n",
      "Total H2 mass: 0.0561 E9\n"
     ]
    }
   ],
   "source": [
    "total_sfr = sum(gas_particles_df['sfr'])\n",
    "print(f\"Total sfr: {np.round(total_sfr, 2)} Msolar / year\")\n",
    "\n",
    "total_gas_mass = sum(gas_particles_df['mass'])\n",
    "print(f\"Total gas mass: {np.round(total_gas_mass/1e9, 2)} E9\")\n",
    "\n",
    "total_h2_mass = sum(gas_particles_df['Mh2'])\n",
    "print(f\"Total H2 mass: {np.round(total_h2_mass/1e9, 4)} E9\")"
   ]
  },
  {
   "cell_type": "markdown",
   "metadata": {},
   "source": [
    "# Lco"
   ]
  },
  {
   "cell_type": "code",
   "execution_count": 12,
   "metadata": {},
   "outputs": [
    {
     "name": "stdout",
     "output_type": "stream",
     "text": [
      "I am in the function X_co_calculator\n"
     ]
    },
    {
     "name": "stderr",
     "output_type": "stream",
     "text": [
      "/tmp/ipykernel_819084/2680780330.py:139: RuntimeWarning: divide by zero encountered in true_divide\n",
      "  X_co = 1.3e21/(metallicity * h2_column_density**0.5) #[cm^-2 /K-km s^-1]\n",
      "/tmp/ipykernel_819084/2680780330.py:143: RuntimeWarning: divide by zero encountered in true_divide\n",
      "  X_co_solar_metallicity = 1.3e21/(constants.solar_metallicity * h2_column_density**0.5) #[cm^-2 /K-km s^-1]\n"
     ]
    }
   ],
   "source": [
    "# Findind the column density of gas particles. \n",
    "h2_column_density = h2_mass_fraction * gas_column_density  # [gr/cm^2]  \n",
    "\n",
    "# Estimating the Xco of gas particles. \n",
    "gas_particles_df[\"Xco\"], Xco_solar_metallicity = X_co_calculator(\n",
    "    h2_column_density = h2_column_density,  # [gr / cm^2]\n",
    "    metallicity = np.array(gas_particles_df[\"metallicity\"]), # Zsolar\n",
    ")    \n",
    "\n",
    "# Calculating Lco\n",
    "alfa_co = gas_particles_df[\"Xco\"] / 6.3e19 # [M_solar/pc^-2 (K-km s^-1)^-1]\n",
    "\n",
    "gas_particles_df[\"L_co\"] = gas_particles_df[\"Mh2\"] / alfa_co "
   ]
  },
  {
   "cell_type": "code",
   "execution_count": 21,
   "metadata": {},
   "outputs": [
    {
     "data": {
      "image/png": "[encoded data removed]",
      "text/plain": [
       "<Figure size 432x288 with 1 Axes>"
      ]
     },
     "metadata": {
      "needs_background": "light"
     },
     "output_type": "display_data"
    },
    {
     "data": {
      "image/png": "[encoded data removed]",
      "text/plain": [
       "<Figure size 432x288 with 1 Axes>"
      ]
     },
     "metadata": {
      "needs_background": "light"
     },
     "output_type": "display_data"
    }
   ],
   "source": [
    "plt.hist(h2_column_density, bins=np.linspace(1e-2, 1, 100))\n",
    "plt.xlabel(\"h2_column_density\")\n",
    "plt.show()\n",
    "\n",
    "plt.hist(alfa_co, bins=np.linspace(0, 1000, 100))\n",
    "plt.xlabel(\"alpha_co\")\n",
    "plt.show()"
   ]
  },
  {
   "cell_type": "code",
   "execution_count": 13,
   "metadata": {},
   "outputs": [
    {
     "data": {
      "image/png": "[encoded data removed]",
      "text/plain": [
       "<Figure size 432x288 with 1 Axes>"
      ]
     },
     "metadata": {
      "needs_background": "light"
     },
     "output_type": "display_data"
    }
   ],
   "source": [
    "bins=np.linspace(-1, 5, 100)\n",
    "plt.hist(np.log10(gas_particles_df[\"L_co\"]), bins=bins)\n",
    "plt.xlabel(\"Lco K-km s^-1 pc^2\")\n",
    "plt.ylabel(\"Count\")\n",
    "plt.yscale(\"log\")\n",
    "plt.show()"
   ]
  },
  {
   "cell_type": "code",
   "execution_count": 14,
   "metadata": {},
   "outputs": [
    {
     "name": "stdout",
     "output_type": "stream",
     "text": [
      "total_Lco: 6120478.635923527\n",
      "max Lco: -70.0 ---- percentage Lco: 0.0% -- percantage_of_gas_particles: 0.0%\n",
      "max Lco: -69.0 ---- percentage Lco: 0.0% -- percantage_of_gas_particles: 0.0%\n",
      "max Lco: -68.0 ---- percentage Lco: 0.0% -- percantage_of_gas_particles: 0.0%\n",
      "max Lco: -67.0 ---- percentage Lco: 0.0% -- percantage_of_gas_particles: 0.0%\n",
      "max Lco: -66.0 ---- percentage Lco: 0.0% -- percantage_of_gas_particles: 0.0%\n",
      "max Lco: -65.0 ---- percentage Lco: 0.0% -- percantage_of_gas_particles: 0.0%\n",
      "max Lco: -64.0 ---- percentage Lco: 0.0% -- percantage_of_gas_particles: 0.0%\n",
      "max Lco: -63.0 ---- percentage Lco: 0.0% -- percantage_of_gas_particles: 0.0%\n",
      "max Lco: -62.0 ---- percentage Lco: 0.0% -- percantage_of_gas_particles: 0.0%\n",
      "max Lco: -61.0 ---- percentage Lco: 0.0% -- percantage_of_gas_particles: 0.0%\n",
      "max Lco: -60.0 ---- percentage Lco: 0.0% -- percantage_of_gas_particles: 0.0%\n",
      "max Lco: -59.0 ---- percentage Lco: 0.0% -- percantage_of_gas_particles: 0.0%\n",
      "max Lco: -58.0 ---- percentage Lco: 0.0% -- percantage_of_gas_particles: 0.0%\n",
      "max Lco: -57.0 ---- percentage Lco: 0.0% -- percantage_of_gas_particles: 0.0%\n",
      "max Lco: -56.0 ---- percentage Lco: 0.0% -- percantage_of_gas_particles: 0.0%\n",
      "max Lco: -55.0 ---- percentage Lco: 0.0% -- percantage_of_gas_particles: 0.0%\n",
      "max Lco: -54.0 ---- percentage Lco: 0.0% -- percantage_of_gas_particles: 0.0%\n",
      "max Lco: -53.0 ---- percentage Lco: 0.0% -- percantage_of_gas_particles: 0.0%\n",
      "max Lco: -52.0 ---- percentage Lco: 0.0% -- percantage_of_gas_particles: 0.0%\n",
      "max Lco: -51.0 ---- percentage Lco: 0.0% -- percantage_of_gas_particles: 0.0%\n",
      "max Lco: -50.0 ---- percentage Lco: 0.0% -- percantage_of_gas_particles: 0.0%\n",
      "max Lco: -49.0 ---- percentage Lco: 0.0% -- percantage_of_gas_particles: 0.0%\n",
      "max Lco: -48.0 ---- percentage Lco: 0.0% -- percantage_of_gas_particles: 0.0%\n",
      "max Lco: -47.0 ---- percentage Lco: 0.0% -- percantage_of_gas_particles: 0.0%\n",
      "max Lco: -46.0 ---- percentage Lco: 0.0% -- percantage_of_gas_particles: 0.0%\n",
      "max Lco: -45.0 ---- percentage Lco: 0.0% -- percantage_of_gas_particles: 0.0%\n",
      "max Lco: -44.0 ---- percentage Lco: 0.0% -- percantage_of_gas_particles: 0.0%\n",
      "max Lco: -43.0 ---- percentage Lco: 0.0% -- percantage_of_gas_particles: 0.0%\n",
      "max Lco: -42.0 ---- percentage Lco: 0.0% -- percantage_of_gas_particles: 0.0%\n",
      "max Lco: -41.0 ---- percentage Lco: 0.0% -- percantage_of_gas_particles: 0.0%\n",
      "max Lco: -40.0 ---- percentage Lco: 0.0% -- percantage_of_gas_particles: 0.0%\n",
      "max Lco: -39.0 ---- percentage Lco: 0.0% -- percantage_of_gas_particles: 0.0%\n",
      "max Lco: -38.0 ---- percentage Lco: 0.0% -- percantage_of_gas_particles: 0.0%\n",
      "max Lco: -37.0 ---- percentage Lco: 0.0% -- percantage_of_gas_particles: 0.0%\n",
      "max Lco: -36.0 ---- percentage Lco: 0.0% -- percantage_of_gas_particles: 0.0%\n",
      "max Lco: -35.0 ---- percentage Lco: 0.0% -- percantage_of_gas_particles: 0.0%\n",
      "max Lco: -34.0 ---- percentage Lco: 0.0% -- percantage_of_gas_particles: 0.0%\n",
      "max Lco: -33.0 ---- percentage Lco: 0.0% -- percantage_of_gas_particles: 0.0%\n",
      "max Lco: -32.0 ---- percentage Lco: 0.0% -- percantage_of_gas_particles: 0.0%\n",
      "max Lco: -31.0 ---- percentage Lco: 0.0% -- percantage_of_gas_particles: 0.0%\n",
      "max Lco: -30.0 ---- percentage Lco: 0.0% -- percantage_of_gas_particles: 0.0%\n",
      "max Lco: -29.0 ---- percentage Lco: 0.0% -- percantage_of_gas_particles: 0.0%\n",
      "max Lco: -28.0 ---- percentage Lco: 0.0% -- percantage_of_gas_particles: 0.0%\n",
      "max Lco: -27.0 ---- percentage Lco: 0.0% -- percantage_of_gas_particles: 0.0%\n",
      "max Lco: -26.0 ---- percentage Lco: 0.0% -- percantage_of_gas_particles: 0.0%\n",
      "max Lco: -25.0 ---- percentage Lco: 0.0% -- percantage_of_gas_particles: 0.0%\n",
      "max Lco: -24.0 ---- percentage Lco: 0.0% -- percantage_of_gas_particles: 0.0%\n",
      "max Lco: -23.0 ---- percentage Lco: 0.0% -- percantage_of_gas_particles: 0.0%\n",
      "max Lco: -22.0 ---- percentage Lco: 0.0% -- percantage_of_gas_particles: 0.0%\n",
      "max Lco: -21.0 ---- percentage Lco: 0.0% -- percantage_of_gas_particles: 0.0%\n",
      "max Lco: -20.0 ---- percentage Lco: 0.0% -- percantage_of_gas_particles: 0.0%\n",
      "max Lco: -19.0 ---- percentage Lco: 0.0% -- percantage_of_gas_particles: 0.0%\n",
      "max Lco: -18.0 ---- percentage Lco: 0.0% -- percantage_of_gas_particles: 0.0%\n",
      "max Lco: -17.0 ---- percentage Lco: 0.0% -- percantage_of_gas_particles: 0.0%\n",
      "max Lco: -16.0 ---- percentage Lco: 0.0% -- percantage_of_gas_particles: 0.0%\n",
      "max Lco: -15.0 ---- percentage Lco: 0.0% -- percantage_of_gas_particles: 0.0%\n",
      "max Lco: -14.0 ---- percentage Lco: 0.0% -- percantage_of_gas_particles: 0.0%\n",
      "max Lco: -13.0 ---- percentage Lco: 0.0% -- percantage_of_gas_particles: 0.0%\n",
      "max Lco: -12.0 ---- percentage Lco: 0.0% -- percantage_of_gas_particles: 0.0%\n",
      "max Lco: -11.0 ---- percentage Lco: 0.0% -- percantage_of_gas_particles: 0.0%\n",
      "max Lco: -10.0 ---- percentage Lco: 0.0% -- percantage_of_gas_particles: 0.0%\n",
      "max Lco: -9.0 ---- percentage Lco: 0.0% -- percantage_of_gas_particles: 0.0%\n",
      "max Lco: -8.0 ---- percentage Lco: 0.0% -- percantage_of_gas_particles: 0.0%\n",
      "max Lco: -7.0 ---- percentage Lco: 0.0% -- percantage_of_gas_particles: 0.0%\n",
      "max Lco: -6.0 ---- percentage Lco: 0.0% -- percantage_of_gas_particles: 0.0%\n",
      "max Lco: -5.0 ---- percentage Lco: 0.0% -- percantage_of_gas_particles: 0.0%\n",
      "max Lco: -4.0 ---- percentage Lco: 0.0% -- percantage_of_gas_particles: 0.0%\n",
      "max Lco: -3.0 ---- percentage Lco: 0.0% -- percantage_of_gas_particles: 0.0%\n",
      "max Lco: -2.0 ---- percentage Lco: 0.0% -- percantage_of_gas_particles: 0.0%\n",
      "max Lco: -1.0 ---- percentage Lco: 0.0% -- percantage_of_gas_particles: 0.01%\n",
      "max Lco: 0.0 ---- percentage Lco: 0.01% -- percantage_of_gas_particles: 0.06%\n",
      "max Lco: 1.0 ---- percentage Lco: 0.27% -- percantage_of_gas_particles: 0.24%\n",
      "max Lco: 2.0 ---- percentage Lco: 6.87% -- percantage_of_gas_particles: 0.76%\n",
      "max Lco: 3.0 ---- percentage Lco: 43.5% -- percantage_of_gas_particles: 1.2%\n",
      "max Lco: 4.0 ---- percentage Lco: 76.31% -- percantage_of_gas_particles: 1.24%\n"
     ]
    }
   ],
   "source": [
    "Lco_max_bins = np.linspace(-70, 4, num=75)\n",
    "\n",
    "total_Lco = np.sum(gas_particles_df[\"L_co\"])\n",
    "print(f\"total_Lco: {total_Lco}\")\n",
    "\n",
    "for lco_max in Lco_max_bins:\n",
    "    condition = np.log10(gas_particles_df[\"L_co\"]) < lco_max\n",
    "    summed_Lco = np.sum(gas_particles_df[condition][\"L_co\"])\n",
    "    percentage_Lco = summed_Lco / total_Lco * 100\n",
    "    \n",
    "    non_nan_count = gas_particles_df[condition][\"L_co\"].notna().sum()\n",
    "    percantage_of_gas_particles_used = non_nan_count / len(gas_particles_df) * 100\n",
    "    \n",
    "    print(f\"max Lco: {lco_max} ---- percentage Lco: {np.round(percentage_Lco,2)}% -- percantage_of_gas_particles: {np.round(percantage_of_gas_particles_used,2 )}%\")\n",
    "    "
   ]
  },
  {
   "cell_type": "code",
   "execution_count": 15,
   "metadata": {},
   "outputs": [
    {
     "name": "stdout",
     "output_type": "stream",
     "text": [
      "22200\n"
     ]
    }
   ],
   "source": [
    "non_nan_count = gas_particles_df[\"L_co\"].notna().sum()\n",
    "print(non_nan_count)\n"
   ]
  },
  {
   "cell_type": "code",
   "execution_count": 16,
   "metadata": {},
   "outputs": [
    {
     "data": {
      "image/png": "[encoded data removed]",
      "text/plain": [
       "<Figure size 432x288 with 1 Axes>"
      ]
     },
     "metadata": {
      "needs_background": "light"
     },
     "output_type": "display_data"
    }
   ],
   "source": [
    "plt.hist(h2_column_density, bins=100)\n",
    "plt.yscale(\"log\")\n",
    "plt.show()"
   ]
  }
 ],
 "metadata": {
  "kernelspec": {
   "display_name": "Python 3 (ipykernel)",
   "language": "python",
   "name": "python3"
  },
  "language_info": {
   "codemirror_mode": {
    "name": "ipython",
    "version": 3
   },
   "file_extension": ".py",
   "mimetype": "text/x-python",
   "name": "python",
   "nbconvert_exporter": "python",
   "pygments_lexer": "ipython3",
   "version": "3.10.2"
  }
 },
 "nbformat": 4,
 "nbformat_minor": 2
}
