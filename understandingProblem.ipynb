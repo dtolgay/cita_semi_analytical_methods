{
 "cells": [
  {
   "cell_type": "code",
   "execution_count": 1,
   "metadata": {},
   "outputs": [],
   "source": [
    "# Imported modules\n",
    "import sys\n",
    "sys.path.append(\"/mnt/raid-cita/dtolgay/FIRE/post_processing_fire_outputs\")\n",
    "from tools import constants\n",
    "\n",
    "import pandas as pd \n",
    "import numpy as np \n",
    "\n",
    "import sys # To run the batch script\n",
    "\n",
    "import os # To check if file exists.\n",
    "\n",
    "\n",
    "import matplotlib.pyplot as plt "
   ]
  },
  {
   "cell_type": "code",
   "execution_count": 4,
   "metadata": {},
   "outputs": [],
   "source": [
    "def h2_mass_fraction_calculator(\n",
    "    local_density_scale_height, \n",
    "    density, \n",
    "    metallicity, \n",
    "    clumping_factor\n",
    "):\n",
    "\n",
    "    print(\"I am in the function h2_mass_fraction_calculator\") \n",
    "\n",
    "\n",
    "    \"\"\"This function is used to calculate the H2 mass fraction by using the formula 1 in the paper:\n",
    "    A Comparison of Methods for Determining the Molecular Content of Model Galaxies by Krumholz, and Gnedin (2011)\n",
    "\n",
    "    Arguments:\n",
    "    ----------\n",
    "    local_density_scale_height: array_like\n",
    "        In this equation smooting length of the gas is assumed to be accurate estimation of the local density scale height. \n",
    "        Therefore smooting length is used instead of local density scale height\n",
    "        [kpc]\n",
    "\n",
    "    density: array_like\n",
    "        Density of the gas particles\n",
    "        [gr / cm^3]\n",
    "\n",
    "    metallicity: array_like\n",
    "        metallicity of the gas particles \n",
    "        [Zsolar]\n",
    "\n",
    "    clumping_factor: double or int\n",
    "        It is a parameter to boost the h2 mass fraction and therefore h2 column density and CO luminosity\n",
    "        [unitless]\n",
    "\n",
    "    Returns:\n",
    "    ----------\n",
    "    h2_mass_fraction: array_like\n",
    "        h2_mass_fraction = h2_gas_mass / total_gas_mass\n",
    "        [unitless]\n",
    "\n",
    "    column_density: array_like\n",
    "        It is the column density considering all elements in the gas particle\n",
    "        [gr/cm^2]\n",
    "\n",
    "    dust_optical_depth: array_like  \n",
    "        tau_c in the reference paper. It was being output in order to control the code\n",
    "        [unitless]\n",
    "\n",
    "    References: \n",
    "    -----------\n",
    "    A Comparison of Methods for Determining the Molecular Content of Model Galaxies by Krumholz, and Gnedin (2011)\n",
    "\n",
    "    \"\"\" \n",
    "\n",
    "\n",
    "    # The units of local_density_scale_height is kpc \n",
    "    local_density_scale_height = local_density_scale_height * constants.kpc2cm  # [cm]\n",
    "\n",
    "    # Calculation of column density \n",
    "    column_density = density * local_density_scale_height   # [gr / cm^2]\n",
    "    # Column density is the summation sign in the paper\n",
    "    # Gunjan assumed that local density scale height is same with the smoooting length of the gas particles. I will continue on this assumption\n",
    "    # but I don't know how it works\n",
    "\n",
    "    # Calculation of dust cross section (sigma_d in txhe paper)\n",
    "    dust_cross_section_per_H_nucleus_normalized_to_1eminus21 = metallicity\n",
    "    dust_cross_section = dust_cross_section_per_H_nucleus_normalized_to_1eminus21 * 1e-21   # [cm^2]\n",
    "\n",
    "\n",
    "    # Calculation of dust optical depth (tau_c in the paper)\n",
    "    # mu_h is the mean mass per H nucleus\n",
    "    mu_h = 2.3e-24  # [gr] \n",
    "    # clumping factor is used to increase the H2 formation to account for density inhomogeneities that are unresolved on the computational grid\n",
    "    # since the H2 formation rate varies as the square of density, these inhomogeneities increase the overall rate\n",
    "    dust_optical_depth = column_density * dust_cross_section / mu_h     # [dimensionless]   \n",
    "\n",
    "    # Calculation for scaled radiation field (chi in the paper) Eq 4 \n",
    "    # This scaled radiation field will not likely to hold cell-by-cell every time step, but it should hold on average\n",
    "    # clumping factor is used to boost the formation rate of the H2 molecules on dust grains (the R term)   \n",
    "    scaled_radiation_field = 3.1 * (1 + 3.1 * metallicity**0.365) / (4.1 * clumping_factor)  # [dimensionless]\n",
    "\n",
    "    # Calculation for s in the paper (Eq 2)\n",
    "    s = np.log(1 + 0.6*scaled_radiation_field + 0.01 * np.power(scaled_radiation_field,2)) / ( 0.6 * dust_optical_depth )\n",
    "\n",
    "    # Calculation for the H2 mass fraction (f_H2 in the paper Eq 1)\n",
    "    h2_mass_fraction = 1 - (3/4) * (s / (1 + 0.25*s))   # [dimensionless]\n",
    "    h2_mass_fraction[h2_mass_fraction < 0] = 0      # If the result is negative set it to zero\n",
    "    \n",
    "    # Set inf values to NaN\n",
    "    # Replace inf/-inf with NaN\n",
    "    h2_mass_fraction[np.isinf(h2_mass_fraction)] = np.nan\n",
    "    column_density[np.isinf(column_density)] = np.nan    \n",
    "    dust_optical_depth[np.isinf(dust_optical_depth)] = np.nan    \n",
    "    scaled_radiation_field[np.isinf(scaled_radiation_field)] = np.nan    \n",
    "    dust_optical_depth[np.isinf(dust_optical_depth)] = np.nan    \n",
    "    \n",
    "    return h2_mass_fraction, column_density, dust_optical_depth, scaled_radiation_field, s, dust_optical_depth\n"
   ]
  },
  {
   "cell_type": "code",
   "execution_count": 5,
   "metadata": {},
   "outputs": [
    {
     "data": {
      "text/plain": [
       "'/mnt/raid-cita/dtolgay/FIRE/post_processing_fire_outputs/skirt/runs_hden_radius/firebox/z3.0/gal20/voronoi_1e6'"
      ]
     },
     "execution_count": 5,
     "metadata": {},
     "output_type": "execute_result"
    }
   ],
   "source": [
    "galaxy_name = \"gal20\"\n",
    "galaxy_type = \"firebox\"\n",
    "redshift = \"3.0\"\n",
    "\n",
    "# Read cloudy_gas_txt \n",
    "run_dir = \"voronoi_1e6\"\n",
    "cloudy_gas_particles_file_directory = f\"/mnt/raid-cita/dtolgay/FIRE/post_processing_fire_outputs/skirt/runs_hden_radius/{galaxy_type}/z{redshift}/{galaxy_name}/{run_dir}\" \n",
    "\n",
    "cloudy_gas_particles_file_directory"
   ]
  },
  {
   "cell_type": "code",
   "execution_count": 6,
   "metadata": {},
   "outputs": [],
   "source": [
    "# Define the column names based on your description\n",
    "gas_column_names = [\n",
    "    \"x\", \n",
    "    \"y\", \n",
    "    \"z\", \n",
    "    \"smoothing_length\", \n",
    "    \"mass\", \n",
    "    \"metallicity\", # Zsolar but will be converted to mass fraction in the future\n",
    "    \"temperature\", \n",
    "    \"vx\", \n",
    "    \"vy\", \n",
    "    \"vz\", \n",
    "    \"hden\", \n",
    "    \"radius\", \n",
    "    \"sfr\", \n",
    "    \"turbulence\", \n",
    "    \"density\", \n",
    "    \"mu_theoretical\", \n",
    "    \"average_sobolev_smoothingLength\",\n",
    "    \"index\", \n",
    "    \"isrf\"\n",
    "]\n",
    "\n",
    "\n",
    "gas_particles_df = pd.read_csv(\n",
    "    f\"{cloudy_gas_particles_file_directory}/cloudy_gas_particles.txt\",\n",
    "    delim_whitespace=True, \n",
    "    comment='#', \n",
    "    names=gas_column_names\n",
    ")\n"
   ]
  },
  {
   "cell_type": "code",
   "execution_count": 7,
   "metadata": {},
   "outputs": [
    {
     "name": "stdout",
     "output_type": "stream",
     "text": [
      "Total sfr: 34.99827562549998 Msolar / year\n"
     ]
    }
   ],
   "source": [
    "total_sfr = sum(gas_particles_df['sfr'])\n",
    "print(f\"Total sfr: {total_sfr} Msolar / year\")"
   ]
  },
  {
   "cell_type": "code",
   "execution_count": 10,
   "metadata": {},
   "outputs": [
    {
     "data": {
      "image/png": "[encoded data removed]",
      "text/plain": [
       "<Figure size 432x288 with 1 Axes>"
      ]
     },
     "metadata": {
      "needs_background": "light"
     },
     "output_type": "display_data"
    },
    {
     "data": {
      "image/png": "[encoded data removed]",
      "text/plain": [
       "<Figure size 432x288 with 1 Axes>"
      ]
     },
     "metadata": {
      "needs_background": "light"
     },
     "output_type": "display_data"
    }
   ],
   "source": [
    "hden_condition = gas_particles_df['density'] / (constants.proton_mass * constants.kg2g * constants.mu_h) >= 1e3\n",
    "\n",
    "\n",
    "bins = np.linspace(start=-3, stop=4, num=100)\n",
    "plt.hist(np.log10(gas_particles_df['hden']), bins=bins)\n",
    "plt.hist(np.log10(gas_particles_df[hden_condition]['hden']), bins=bins)\n",
    "plt.show()\n",
    "\n",
    "\n",
    "bins = np.linspace(start=0, stop=0.4, num=100)\n",
    "plt.hist(gas_particles_df['sfr'], bins=bins)\n",
    "plt.hist(gas_particles_df[hden_condition]['sfr'], bins=bins)\n",
    "plt.yscale(\"log\")\n",
    "plt.show()\n",
    "\n"
   ]
  }
 ],
 "metadata": {
  "kernelspec": {
   "display_name": "Python 3 (ipykernel)",
   "language": "python",
   "name": "python3"
  },
  "language_info": {
   "codemirror_mode": {
    "name": "ipython",
    "version": 3
   },
   "file_extension": ".py",
   "mimetype": "text/x-python",
   "name": "python",
   "nbconvert_exporter": "python",
   "pygments_lexer": "ipython3",
   "version": "3.10.2"
  }
 },
 "nbformat": 4,
 "nbformat_minor": 2
}
