{
 "cells": [
  {
   "cell_type": "code",
   "execution_count": 1,
   "id": "fa695f8d",
   "metadata": {},
   "outputs": [],
   "source": [
    "from tools import constants\n",
    "\n",
    "import pandas as pd \n",
    "import numpy as np \n",
    "\n",
    "import matplotlib.pyplot as plt\n",
    "import matplotlib\n",
    "plt.style.use(\"seaborn-poster\")"
   ]
  },
  {
   "cell_type": "markdown",
   "id": "a1f903b8",
   "metadata": {},
   "source": [
    "# Functions"
   ]
  },
  {
   "cell_type": "code",
   "execution_count": 2,
   "id": "d93e1915",
   "metadata": {},
   "outputs": [],
   "source": [
    "def h2_mass_fraction_calculator(\n",
    "    local_density_scale_height, \n",
    "    density, \n",
    "    metallicity, \n",
    "    clumping_factor\n",
    "):\n",
    "\n",
    "    print(\"I am in the function h2_mass_fraction_calculator\") \n",
    "\n",
    "\n",
    "    \"\"\"This function is used to calculate the H2 mass fraction by using the formula 1 in the paper:\n",
    "    A Comparison of Methods for Determining the Molecular Content of Model Galaxies by Krumholz, and Gnedin (2011)\n",
    "\n",
    "    Arguments:\n",
    "    ----------\n",
    "    local_density_scale_height: array_like\n",
    "        In this equation smooting length of the gas is assumed to be accurate estimation of the local density scale height. \n",
    "        Therefore smooting length is used instead of local density scale height\n",
    "        [kpc]\n",
    "\n",
    "    density: array_like\n",
    "        Density of the gas particles\n",
    "        [1e10 M☉ / kpc^3]\n",
    "\n",
    "    metallicity: array_like\n",
    "        metallicity of the gas particles \n",
    "        [Zsolar]\n",
    "\n",
    "    clumping_factor: double or int\n",
    "        It is a parameter to boost the h2 mass fraction and therefore h2 column density and CO luminosity\n",
    "        [unitless]\n",
    "\n",
    "    Returns:\n",
    "    ----------\n",
    "    h2_mass_fraction: array_like\n",
    "        h2_mass_fraction = h2_gas_mass / total_gas_mass\n",
    "        [unitless]\n",
    "\n",
    "    column_density: array_like\n",
    "        It is the column density considering all elements in the gas particle\n",
    "        [gr/cm^2]\n",
    "\n",
    "    dust_optical_depth: array_like\t\n",
    "        tau_c in the reference paper. It was being output in order to control the code\n",
    "        [unitless]\n",
    "\n",
    "    References: \n",
    "    -----------\n",
    "    A Comparison of Methods for Determining the Molecular Content of Model Galaxies by Krumholz, and Gnedin (2011)\n",
    "\n",
    "    \"\"\"\t\n",
    "\n",
    "    # The unit of density in snapshots is [10^10 M_sun / kpc^3]\n",
    "    density = density * 1e10  # [M_sun / kpc^3]\n",
    "    density = density * constants.M_sun2gr / constants.kpc2cm**3  # [gr / cm^3]\n",
    "\n",
    "    # The units of local_density_scale_height is kpc \n",
    "    local_density_scale_height = local_density_scale_height * constants.kpc2cm \t# [cm]\n",
    "\n",
    "    # Calculation of column density \n",
    "    column_density = density * local_density_scale_height \t# [gr / cm^2]\n",
    "    # Column density is the summation sign in the paper\n",
    "    # Gunjan assumed that local density scale height is same with the smoooting length of the gas particles. I will continue on this assumption\n",
    "    # but I don't know how it works\n",
    "\n",
    "    # Calculation of dust cross section (sigma_d in txhe paper)\n",
    "    dust_cross_section_per_H_nucleus_normalized_to_1eminus21 = metallicity\n",
    "    dust_cross_section = dust_cross_section_per_H_nucleus_normalized_to_1eminus21 * 1e-21\t# [cm^2]\n",
    "\n",
    "\n",
    "    # Calculation of dust optical depth (tau_c in the paper)\n",
    "    # mu_h is the mean mass per H nucleus\n",
    "    mu_h = 2.3e-24\t# [gr] \n",
    "    # clumping factor is used to increase the H2 formation to account for density inhomogeneities that are unresolved on the computational grid\n",
    "    # since the H2 formation rate varies as the square of density, these inhomogeneities increase the overall rate\n",
    "    dust_optical_depth = column_density * dust_cross_section / mu_h \t# [dimensionless]\t\n",
    "\n",
    "    # Calculation for scaled radiation field (chi in the paper) Eq 4 \n",
    "    # This scaled radiation field will not likely to hold cell-by-cell every time step, but it should hold on average\n",
    "    # clumping factor is used to boost the formation rate of the H2 molecules on dust grains (the R term)\t\n",
    "    scaled_radiation_field = 3.1 * (1 + 3.1 * metallicity**0.365) / (4.1 * clumping_factor)  # [dimensionless]\n",
    "\n",
    "    # Calculation for s in the paper (Eq 2)\n",
    "    s = np.log(1 + 0.6*scaled_radiation_field + 0.01 * np.power(scaled_radiation_field,2)) / ( 0.6 * dust_optical_depth )\n",
    "\n",
    "    # Calculation for the H2 mass fraction (f_H2 in the paper Eq 1)\n",
    "    h2_mass_fraction = 1 - (3/4) * (s / (1 + 0.25*s))\t# [dimensionless]\n",
    "    h2_mass_fraction[h2_mass_fraction < 0] = 0 \t\t# If the result is negative set it to zero\n",
    "    \n",
    "    # Set inf values to NaN\n",
    "    # Replace inf/-inf with NaN\n",
    "    h2_mass_fraction[np.isinf(h2_mass_fraction)] = np.nan\n",
    "    column_density[np.isinf(column_density)] = np.nan    \n",
    "    dust_optical_depth[np.isinf(dust_optical_depth)] = np.nan    \n",
    "    scaled_radiation_field[np.isinf(scaled_radiation_field)] = np.nan    \n",
    "    dust_optical_depth[np.isinf(dust_optical_depth)] = np.nan    \n",
    "    \n",
    "    return h2_mass_fraction, column_density, dust_optical_depth, scaled_radiation_field, s, dust_optical_depth\n",
    "\n",
    "\n",
    "def X_co_calculator(\n",
    "    h2_column_density, \n",
    "    metallicity, \n",
    "):\n",
    "    print(\"I am in the function X_co_calculator\")\n",
    "\n",
    "    \"\"\"This function is being used in order to calculate the X_co for each annulus\n",
    "\n",
    "    Arguments:\n",
    "    ----------\n",
    "    h2_column_density: array-like\n",
    "        h2_column_density for each particle \n",
    "        [gr/cm^2]\n",
    "\n",
    "    metallicity: array-like\n",
    "        [Zsolar]\n",
    "\n",
    "    Returns:\n",
    "    ----------\n",
    "    X_co: vector \n",
    "        CO conversion factor for each particle\n",
    "        [cm^-2 /K-km s^-1]\n",
    "        \n",
    "    X_co_solar_metallicity: vector\n",
    "        X_co when metallicity is set to solar metallicity\n",
    "        [cm^-2 /K-km s^-1]\n",
    "\n",
    "    References: \n",
    "    -----------\n",
    "    A general model for the CO-H2 conversion factor in galaxies with applications to the star formation law. (Narayanan et al. 2012)\n",
    "\n",
    "    \"\"\"\t\n",
    "\n",
    "\n",
    "    h2_column_density = h2_column_density * constants.gr2M_sun / (constants.cm2pc)**2\t\n",
    "    # h2_column_density [M_sun/pc^2]\n",
    "\n",
    "    # A general model for the CO-H2 conversion factor in galaxies with applications to the star formation law. (Narayanan et al. 2012)\n",
    "    # Eq 6 \n",
    "\n",
    "    X_co = 1.3e21/(metallicity * h2_column_density**0.5) #[cm^-2 /K-km s^-1]\n",
    "\n",
    "    ####\t\n",
    "\n",
    "    X_co_solar_metallicity = 1.3e21/(constants.solar_metallicity * h2_column_density**0.5) #[cm^-2 /K-km s^-1]\n",
    "\n",
    "    # Set inf values to NaN\n",
    "    # Replace inf/-inf with NaN\n",
    "    X_co[np.isinf(X_co)] = np.nan\n",
    "    X_co_solar_metallicity[np.isinf(X_co_solar_metallicity)] = np.nan\n",
    "    \n",
    "    \n",
    "    return X_co, X_co_solar_metallicity"
   ]
  },
  {
   "cell_type": "markdown",
   "id": "f1f65761",
   "metadata": {},
   "source": [
    "# main"
   ]
  },
  {
   "cell_type": "code",
   "execution_count": 3,
   "id": "92fd5fec",
   "metadata": {},
   "outputs": [],
   "source": [
    "galaxy_name = \"m12i_res7100_md\"\n",
    "galaxy_type = \"zoom_in\"\n",
    "redshift = \"0.0\"\n",
    "\n",
    "# galaxy_name = \"gal0\"\n",
    "# galaxy_type = \"firebox\"\n",
    "# redshift = \"0.0\"\n"
   ]
  },
  {
   "cell_type": "code",
   "execution_count": 4,
   "id": "1920bc44",
   "metadata": {},
   "outputs": [
    {
     "name": "stdout",
     "output_type": "stream",
     "text": [
      "/mnt/raid-cita/dtolgay/FIRE/post_processing_fire_outputs/skirt/runs_hden_radius/zoom_in/z0.0/m12i_res7100_md/trial1/cloudy_gas_particles.txt read and dataframe is created!\n",
      "/mnt/raid-cita/dtolgay/FIRE/post_processing_fire_outputs/skirt/runs_hden_radius/zoom_in/z0.0/m12i_res7100_md/trial1/comprehensive_star.txt read and dataframe is created!\n"
     ]
    }
   ],
   "source": [
    "# Read cloudy_gas_txt \n",
    "cloudy_gas_particles_file_directory = f\"/mnt/raid-cita/dtolgay/FIRE/post_processing_fire_outputs/skirt/runs_hden_radius/{galaxy_type}/z{redshift}/{galaxy_name}/trial1\" \n",
    "\n",
    "\n",
    "# Define the column names based on your description\n",
    "gas_column_names = [\n",
    "    \"x\", \n",
    "    \"y\", \n",
    "    \"z\", \n",
    "    \"smoothing_length\", \n",
    "    \"mass\", \n",
    "    \"metallicity\", # Zsolar but will be converted to mass fraction in the future\n",
    "    \"temperature\", \n",
    "    \"vx\", \n",
    "    \"vy\", \n",
    "    \"vz\", \n",
    "    \"hden\", \n",
    "    \"radius\", \n",
    "    \"sfr\", \n",
    "    \"turbulence\", \n",
    "    \"density\", \n",
    "    \"mu_theoretical\", \n",
    "    \"average_sobolev_smoothingLength\",\n",
    "    \"index\", \n",
    "    \"isrf\"\n",
    "]\n",
    "\n",
    "\n",
    "gas_particles_df = pd.read_csv(\n",
    "    f\"{cloudy_gas_particles_file_directory}/cloudy_gas_particles.txt\",\n",
    "    delim_whitespace=True, \n",
    "    comment='#', \n",
    "    names=gas_column_names\n",
    ")\n",
    "\n",
    "\n",
    "# Converting density back to 1e10 Msolar / kpc^3 from gr/cm^3\n",
    "# gas_particles_df[\"density\"] *= (1 / (1e10 * constants.M_sun2gr)) * (constants.kpc2cm)**3  # 1e10 Msolar / kpc^3 \n",
    "gas_particles_df[\"density\"] /= (1e10 * constants.M_sun2gr / (constants.kpc2cm)**3)  # 1e10 Msolar / kpc^3\n",
    "\n",
    "\n",
    "print(f\"{cloudy_gas_particles_file_directory}/cloudy_gas_particles.txt read and dataframe is created!\")\n",
    "\n",
    "\n",
    "star_column_names = [\n",
    "    \"x\",\n",
    "    \"y\",\n",
    "    \"z\",\n",
    "    \"vx\",\n",
    "    \"vy\",\n",
    "    \"vz\",\n",
    "    \"metallicity\",\n",
    "    \"mass\",\n",
    "    \"age\"\n",
    "]\n",
    "\n",
    "star_particles_df = pd.read_csv(\n",
    "    f\"{cloudy_gas_particles_file_directory}/comprehensive_star.txt\",\n",
    "    delim_whitespace=True, \n",
    "    comment='#', \n",
    "    names=star_column_names\n",
    ")\n",
    "\n",
    "print(f\"{cloudy_gas_particles_file_directory}/comprehensive_star.txt read and dataframe is created!\")\n"
   ]
  },
  {
   "cell_type": "code",
   "execution_count": 21,
   "id": "82c78dc8",
   "metadata": {},
   "outputs": [
    {
     "name": "stdout",
     "output_type": "stream",
     "text": [
      "I am in the function h2_mass_fraction_calculator\n"
     ]
    }
   ],
   "source": [
    "############################################################################################################################################\n",
    "\n",
    "# h2 mass fraction is calculated by following Krumholz, and Gnedin (2011) \n",
    "# \"A Comparison of Methods for Determining the Molecular Content of Model Galaxies by Krumholz, and Gnedin (2011)\"\n",
    "\n",
    "# from tools.functions import local_density_scale_height_calculator\n",
    "# gas_particles_df[\"local_density_scale_height\"] =  local_density_scale_height_calculator(\n",
    "#     density_gas = np.array(gas_particles_df[\"density\"]), \n",
    "#     x_gas = np.array(gas_particles_df[\"x\"]), \n",
    "#     y_gas = np.array(gas_particles_df[\"y\"]), \n",
    "#     z_gas = np.array(gas_particles_df[\"z\"]), \n",
    "#     smoothing_length_gas = np.array(gas_particles_df[\"smoothing_length\"])\n",
    "# ) # pc \n",
    "\n",
    "\n",
    "\n",
    "h2_mass_fraction, gas_column_density, dust_optical_depth, scaled_radiation_field, s, dust_optical_depth = h2_mass_fraction_calculator(\n",
    "    local_density_scale_height = np.array(gas_particles_df[\"average_sobolev_smoothingLength\"]) / constants.kpc2pc, # kpc\n",
    "    density = np.array(gas_particles_df[\"density\"]), # 1e10 Msolar / kpc^3\n",
    "    metallicity= np.array(gas_particles_df[\"metallicity\"]),  # Zsolar\n",
    "    clumping_factor = 1\n",
    ")\n",
    "\n",
    "# Find molecular gas mass\n",
    "gas_particles_df[\"h2_mass\"] = h2_mass_fraction * gas_particles_df[\"mass\"] # Msolar"
   ]
  },
  {
   "cell_type": "code",
   "execution_count": 22,
   "id": "e9456345",
   "metadata": {},
   "outputs": [
    {
     "name": "stdout",
     "output_type": "stream",
     "text": [
      "I am in the function X_co_calculator\n"
     ]
    },
    {
     "name": "stderr",
     "output_type": "stream",
     "text": [
      "/tmp/ipykernel_1642389/3458077065.py:142: RuntimeWarning: divide by zero encountered in true_divide\n",
      "  X_co = 1.3e21/(metallicity * h2_column_density**0.5) #[cm^-2 /K-km s^-1]\n",
      "/tmp/ipykernel_1642389/3458077065.py:146: RuntimeWarning: divide by zero encountered in true_divide\n",
      "  X_co_solar_metallicity = 1.3e21/(constants.solar_metallicity * h2_column_density**0.5) #[cm^-2 /K-km s^-1]\n"
     ]
    }
   ],
   "source": [
    "# Findind the column density of gas particles. \n",
    "h2_column_density = h2_mass_fraction * gas_column_density  # [gr/cm^2]\t\n",
    "\n",
    "# Estimating the Xco of gas particles. \n",
    "gas_particles_df[\"Xco\"], Xco_solar_metallicity = X_co_calculator(\n",
    "    h2_column_density = h2_column_density,  # [gr / cm^2]\n",
    "    metallicity = np.array(gas_particles_df[\"metallicity\"]), # mass fraction\n",
    ")"
   ]
  },
  {
   "cell_type": "code",
   "execution_count": 23,
   "id": "3b45bce1",
   "metadata": {},
   "outputs": [],
   "source": [
    "# Calculating Lco\n",
    "alfa_co = gas_particles_df[\"Xco\"] / 6.3e19 # [M_solar/pc^-2 (K-km s^-1)^-1]\n",
    "\n",
    "gas_particles_df[\"L_co\"] = gas_particles_df[\"h2_mass\"] / alfa_co"
   ]
  },
  {
   "cell_type": "code",
   "execution_count": 27,
   "id": "ea3b823a",
   "metadata": {},
   "outputs": [
    {
     "data": {
      "text/plain": [
       "Index(['x', 'y', 'z', 'smoothing_length', 'mass', 'metallicity', 'temperature',\n",
       "       'vx', 'vy', 'vz', 'hden', 'radius', 'sfr', 'turbulence', 'density',\n",
       "       'mu_theoretical', 'average_sobolev_smoothingLength', 'index', 'isrf',\n",
       "       'h2_mass', 'Xco', 'L_co'],\n",
       "      dtype='object')"
      ]
     },
     "execution_count": 27,
     "metadata": {},
     "output_type": "execute_result"
    }
   ],
   "source": [
    "gas_particles_df.keys()"
   ]
  },
  {
   "cell_type": "code",
   "execution_count": 28,
   "id": "aa75e02f",
   "metadata": {},
   "outputs": [
    {
     "name": "stdout",
     "output_type": "stream",
     "text": [
      "/mnt/raid-cita/dtolgay/FIRE/post_processing_fire_outputs/skirt/runs_hden_radius/zoom_in/z0.0/m12i_res7100_md/trial1/semi_analytical_average_sobolev_smoothingLength.txt is written!\n"
     ]
    }
   ],
   "source": [
    "# Write to an output file \n",
    "\n",
    "# Chancing the unit of density once more to make it same with the cloudy gas particle file \n",
    "gas_particles_df[\"density\"] *= (1e10 * constants.M_sun2gr / (constants.kpc2cm)**3)  # gr / cm^3\n",
    "\n",
    "\n",
    "write_df = gas_particles_df[[\n",
    "    \"x\",\n",
    "    \"y\",\n",
    "    \"z\",\n",
    "    'smoothing_length', \n",
    "    'mass', \n",
    "    'metallicity', \n",
    "    'temperature',\n",
    "    'vx', \n",
    "    'vy', \n",
    "    'vz', \n",
    "    'hden', \n",
    "    'radius', \n",
    "    'sfr', \n",
    "    'turbulence', \n",
    "    'density',\n",
    "    'mu_theoretical', \n",
    "    'average_sobolev_smoothingLength', \n",
    "    'index', \n",
    "    'isrf',\n",
    "    'h2_mass',\n",
    "    'Xco',\n",
    "    'L_co',\n",
    "]]\n",
    "\n",
    "# Write to a file \n",
    "header = f\"\"\"Gas particles for {galaxy_name} galaxy\n",
    "Column 0: x-coordinate (pc)\n",
    "Column 1: y-coordinate (pc)\n",
    "Column 2: z-coordinate (pc)\n",
    "Column 3: smoothing length (pc)\n",
    "Column 4: mass (Msolar)\n",
    "Column 5: metallicity (Zsolar)\n",
    "Column 6: temperature (K)\n",
    "Column 7: vx (km/s)\n",
    "Column 8: vy (km/s)\n",
    "Column 9: vz (km/s)\n",
    "Column 10: hydrogen density (cm^-3)\n",
    "Column 11: radius (pc)\n",
    "Column 12: sfr (Msolar/yr)\n",
    "Column 13: turbulence (km/s)\n",
    "Column 14: density (gr/cm^-3)\n",
    "Column 15: mu_theoretical (1)\n",
    "Column 16: average_sobolev_smoothingLength (pc)    \n",
    "Column 17: index (1)\n",
    "Column 18: isrf [G0]\n",
    "Column 19: h2 mass (Msolar)\n",
    "Column 20: Xco (cm^-2 (K km s^-1)^-1)\n",
    "Column 21: Lco (K km s^-1 pc^2)\n",
    "\"\"\"\n",
    "\n",
    "write_file_name = f\"{cloudy_gas_particles_file_directory}/semi_analytical_average_sobolev_smoothingLength.txt\"\n",
    "np.savetxt(fname=write_file_name, X = write_df, fmt='%.8e', header=header)\n",
    "print(f\"{write_file_name} is written!\") \n"
   ]
  },
  {
   "cell_type": "code",
   "execution_count": 30,
   "id": "1a4797e5",
   "metadata": {},
   "outputs": [
    {
     "name": "stdout",
     "output_type": "stream",
     "text": [
      "2270462\n",
      "Number of NaN elements in the array: 1709973\n"
     ]
    }
   ],
   "source": [
    "# Counting the number of NaN elements\n",
    "num_nan = np.sum(np.isnan(gas_particles_df[\"L_co\"]))\n",
    "\n",
    "print(len(gas_particles_df))\n",
    "\n",
    "print(\"Number of NaN elements in the array:\", num_nan)"
   ]
  },
  {
   "cell_type": "markdown",
   "id": "f9212182",
   "metadata": {},
   "source": [
    "# Histogram plots"
   ]
  },
  {
   "cell_type": "code",
   "execution_count": 18,
   "id": "62351b73",
   "metadata": {},
   "outputs": [
    {
     "data": {
      "image/png": "[encoded data removed]",
      "text/plain": [
       "<Figure size 921.6x633.6 with 1 Axes>"
      ]
     },
     "metadata": {
      "needs_background": "light"
     },
     "output_type": "display_data"
    }
   ],
   "source": [
    "plt.hist(gas_particles_df[\"Xco\"], bins=100 , label = \"gas_metallicity\", alpha = 0.5)\n",
    "plt.hist(Xco_solar_metallicity, bins=100, label=\"solar\", alpha = 0.5)\n",
    "plt.xscale(\"log\")\n",
    "plt.yscale(\"log\")\n",
    "plt.legend()\n",
    "plt.show()"
   ]
  },
  {
   "cell_type": "markdown",
   "id": "9d45b0ab",
   "metadata": {},
   "source": [
    "# Plotting Lco"
   ]
  },
  {
   "cell_type": "code",
   "execution_count": 19,
   "id": "4bc7b954",
   "metadata": {},
   "outputs": [
    {
     "name": "stdout",
     "output_type": "stream",
     "text": [
      "I am in the function XCold_Gass_data_reading\n",
      "I am in the function PHIBSS2_data_reading\n",
      "I am in the function ALMA_2019_Data_Reading\n",
      "I am in the function Leroy_data_reading\n",
      "average_radius_r25_times_075_LEROY:  8.886206896551723\n",
      "I am in the function laura_eyeballing_data_df_creator\n"
     ]
    }
   ],
   "source": [
    "from tools import functions_importing_observations as func_observations\n",
    "\n",
    "################# Importing data from observations \n",
    "\n",
    "base_dir = \"/mnt/raid-cita/dtolgay/Observations\"\n",
    "    \n",
    "# ### Ly_alpha\n",
    "# HETDEX_df = func_observations.hetdex_data_reading(f\"/mnt/raid-cita/dtolgay/Observations/hetdex_sc1_v3.2.ecsv\")\n",
    "# hayes_2014 = func_observations.HAYES_2014_data_reading(\"/mnt/raid-cita/dtolgay/Observations/hayes_2014.xlsx\")\n",
    "# cowie_2011 = func_observations.cowie_2011_lya_reading(\"/mnt/raid-cita/dtolgay/Observations/cowie_2011_lya.xlsx\")\n",
    "\n",
    "### C0\n",
    "xCOLDGASS_file_path = \"/mnt/raid-cita/dtolgay/Observations/xCOLDGASS_PubCat.fits\"\n",
    "XCOLDGASS_df = func_observations.XCold_Gass_data_reading(filedir=xCOLDGASS_file_path)\n",
    "\n",
    "PHIBSS2_file_path = \"/mnt/raid-cita/dtolgay/Observations/PHIBSS2_data.xlsx\" \n",
    "PHIBBS2_df = func_observations.PHIBSS2_data_reading(filedir=PHIBSS2_file_path)\n",
    "\n",
    "ALMA_2019_file_path = \"/mnt/raid-cita/dtolgay/Observations/ALMA_2019_data.xlsx\"\n",
    "ALMA_df = func_observations.ALMA_2019_Data_Reading(filedir=ALMA_2019_file_path)\n",
    "\n",
    "Leroy_file_path = \"/mnt/raid-cita/dtolgay/Observations/Leroy_data.xlsx\"\n",
    "Leroy_df, average_radius_r25_times_075_LEROY = func_observations.Leroy_Data_Reading(filedir=Leroy_file_path)\n",
    "\n",
    "\n",
    "# ### h alpha\n",
    "# young_1996 = func_observations.young_1996(\"/mnt/raid-cita/dtolgay/Observations/young_1996.xlsx\")\n",
    "# james_2014 = func_observations.james_2024(\"/mnt/raid-cita/dtolgay/Observations/james_2014_h_alpha.dat\")\n",
    "\n",
    "Laura_df = func_observations.laura_eyeballing_data_df_creator()"
   ]
  },
  {
   "cell_type": "code",
   "execution_count": 20,
   "id": "5b5d90c9",
   "metadata": {},
   "outputs": [
    {
     "data": {
      "image/png": "[encoded data removed]",
      "text/plain": [
       "<Figure size 1080x720 with 1 Axes>"
      ]
     },
     "metadata": {
      "needs_background": "light"
     },
     "output_type": "display_data"
    }
   ],
   "source": [
    "fig = plt.figure(figsize=(15, 10))\n",
    "\n",
    "# xCOLDGASS\n",
    "plt.plot(XCOLDGASS_df['SFR'], XCOLDGASS_df['Lco'], '.', label = \"xCOLDGASSS\")\n",
    "\n",
    "# ## Xcoldgass metallicity color plot\n",
    "# plt.scatter(XCOLDGASS_df['SFR'], XCOLDGASS_df['Lco'], c=np.log10(XCOLDGASS_df[\"Mh2\"]), cmap=\"GnBu\", label = \"xCOLDGASSS\") \n",
    "# plt.colorbar(label=\"log10_Mh2\", orientation=\"horizontal\") \n",
    "\n",
    "\n",
    "# Laura\n",
    "plt.scatter(Laura_df[\"SFR\"], Laura_df[\"Lco\"], marker = '^', s=400, c = \"Green\", label = \"Laura\")\n",
    "\n",
    "# My work\n",
    "plt.scatter(sum(gas_particles_df[\"sfr\"]), np.sum(gas_particles_df[\"L_co\"]), c = \"tab:Red\", label = f\"{galaxy_name}\")\n",
    "\n",
    "plt.xscale(\"log\")\n",
    "plt.yscale(\"log\")\n",
    "plt.legend()\n",
    "plt.show()"
   ]
  }
 ],
 "metadata": {
  "kernelspec": {
   "display_name": "Python 3 (ipykernel)",
   "language": "python",
   "name": "python3"
  },
  "language_info": {
   "codemirror_mode": {
    "name": "ipython",
    "version": 3
   },
   "file_extension": ".py",
   "mimetype": "text/x-python",
   "name": "python",
   "nbconvert_exporter": "python",
   "pygments_lexer": "ipython3",
   "version": "3.10.2"
  }
 },
 "nbformat": 4,
 "nbformat_minor": 5
}
