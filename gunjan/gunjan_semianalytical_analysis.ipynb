{
 "cells": [
  {
   "cell_type": "code",
   "execution_count": 1,
   "id": "d3168c35",
   "metadata": {},
   "outputs": [],
   "source": [
    "import numpy as np\n",
    "import matplotlib.pyplot as plt\n",
    "from scipy.stats import *\n",
    "from scipy.spatial import *\n",
    "from scipy.linalg import *\n",
    "import matplotlib\n",
    "from matplotlib.colors import LogNorm\n",
    "from matplotlib import rcParams\n",
    "import glob\n",
    "import funcs\n",
    "import readsnap\n",
    "\n",
    "\n",
    "\n",
    "M_sun      = 1.99e33   # in gms \n",
    "kpc        = 3.08e21   # in cms \n",
    "pc         = kpc/1.e3\n",
    "k_b        = 1.380e-16 # in erg K^(-1)\n",
    "m_proton   = 1.672e-24 # in gms \n",
    "gamma      = 5./3      # adiabatic index \n",
    "omega_m    = 0.272\n",
    "omega_b    = 0.0455\n",
    "omega_c    = omega_m - omega_b\n",
    "sigma_dust = 5.e-22    # cm^(2) g^(-1)]] \n",
    "h          = 0.7       # Hubble_parameter\n",
    "solar_metallicity = 0.02 #solar mass fraction\n"
   ]
  },
  {
   "cell_type": "code",
   "execution_count": 15,
   "id": "8d643080",
   "metadata": {},
   "outputs": [],
   "source": [
    "M_sun2gr            \t\t\t\t= 1.99e33           # M☉ -> gr\n",
    "pc2cm               \t\t\t\t= 3.08e18           # pc -> cm \n",
    "\n",
    "gr2M_sun = 1/M_sun2gr\n",
    "cm2pc = 1/pc2cm"
   ]
  },
  {
   "cell_type": "code",
   "execution_count": 2,
   "id": "e36d17a7",
   "metadata": {},
   "outputs": [],
   "source": [
    "snapshot = 120\n",
    "nsteps = 1 #SPECIFY THE LOOP STEP FOR SNAPSHOTS\n",
    "\n",
    "#file_dir = '/mnt/scratch-lustre/lakhlani/m12b_res56000/output/' \n",
    "\n",
    "#file_dir = '/mnt/scratch-lustre/lakhlani/m13_mr_Dec16_2013/'\n",
    "\n",
    "file_dir = \"/mnt/raid-project/murray/FIRE/FIRE_2/Fei_analysis/md/m12i_res7100_md/output\""
   ]
  },
  {
   "cell_type": "code",
   "execution_count": 3,
   "id": "fff669e6",
   "metadata": {},
   "outputs": [
    {
     "name": "stdout",
     "output_type": "stream",
     "text": [
      "loading file : /mnt/raid-project/murray/FIRE/FIRE_2/Fei_analysis/md/m12i_res7100_md/output/snapdir_120/snapshot_120.0.hdf5\n",
      "npart_file:  [17602868 17525280   873987        0   119158        0]\n",
      "npart_total: [70032348 70514272  5513331        0   483237        0]\n",
      "npart_file:  [17602868 17525280   873987        0   119158        0]\n",
      "npart_total: [70032348 70514272  5513331        0   483237        0]\n",
      "npart_file:  [17602868 17525280   873987        0   119158        0]\n",
      "npart_total: [70032348 70514272  5513331        0   483237        0]\n",
      "npart_file:  [17602868 17525280   873987        0   119158        0]\n",
      "npart_total: [70032348 70514272  5513331        0   483237        0]\n"
     ]
    }
   ],
   "source": [
    "P = readsnap.readsnap(file_dir, snapshot, 0, cosmological=1, loud = 1 )\n",
    "P_star = readsnap.readsnap(file_dir, snapshot, 4, cosmological = 1)\n",
    "P_dm = readsnap.readsnap(file_dir, snapshot, 1, cosmological = 1 )\n",
    "header_info = readsnap.readsnap(file_dir, snapshot, 0 ,cosmological=1,  header_only = 1)\n",
    "scale_factor = header_info['time']\n",
    "hubble_run = header_info['hubble']\n",
    "redshift = header_info['redshift']\n",
    "\n",
    "\n",
    "\n",
    "xc, yc, zc, Mhalo = funcs.find_mostmassive(file_dir, int(snapshot), 0)\n",
    "\n",
    "x_gas, y_gas, z_gas = P['p'][:,0], P['p'][:,1], P['p'][:,2]\n",
    "x_star, y_star, z_star = P_star['p'][:,0], P_star['p'][:,1], P_star['p'][:,2]\n",
    "x_dm, y_dm, z_dm = P_dm['p'][:,0], P_dm['p'][:,1], P_dm['p'][:,2]\n",
    "gas_mass = P['m']\n",
    "stellar_mass = P_star['m']\n",
    "star_age = P_star['age']\n",
    "dm_mass = P_dm['m']\n",
    "gas_density = P['rho']\n",
    "smoothing_gas = P['h']\n",
    "internal_energy = P['u']\n",
    "electron_abundance = P['ne']\n",
    "SFR = P['sfr']\n",
    "total_metallicity = P['z'][:,0]\n",
    "helium_mass_fraction = P['z'][:,1]\n",
    "vx_gas, vy_gas, vz_gas = P['v'][:,0], P['v'][:,1], P['v'][:,2]\n",
    "\n",
    "x_dm, y_dm, z_dm = funcs.change_coordinates(xc/hubble_run*scale_factor, yc/hubble_run*scale_factor, zc/hubble_run*scale_factor, x_dm, y_dm, z_dm)\n",
    "\n",
    "x_gas, y_gas, z_gas = funcs.change_coordinates(xc/hubble_run*scale_factor, yc/hubble_run*scale_factor, zc/hubble_run*scale_factor, x_gas, y_gas, z_gas)\n",
    "\n",
    "x_star, y_star, z_star = funcs.change_coordinates(xc/hubble_run*scale_factor, yc/hubble_run*scale_factor, zc/hubble_run*scale_factor, x_star, y_star, z_star)\n"
   ]
  },
  {
   "cell_type": "code",
   "execution_count": 4,
   "id": "6571222d",
   "metadata": {},
   "outputs": [
    {
     "name": "stdout",
     "output_type": "stream",
     "text": [
      "\n",
      "Components of total angular momentum vector before rotation are:  (-314.41993353396094, 38.481972997498694, -822.0003243782395) \n",
      "\n",
      "(e_L_x, e_L_y, e_L_z): (-0.3569210271525615, 0.0436836977056381, -0.9331125949911526) \n",
      "\n",
      "Total angular momentum before rotation is:  880.922976273869 \n",
      "\n",
      "theta, phi:  (2.7737702723974205, -0.12178469593985425) \n",
      "\n",
      "\n",
      "Components of total angular momentum vector before rotation are:  (3.985700658404312e-14, -6.8833827526759706e-15, 880.9229762738698) \n",
      "\n",
      "(e_L_x, e_L_y, e_L_z): (4.5244598741913153e-17, -7.813830423394471e-18, 1.0) \n",
      "\n",
      "Total angular momentum before rotation is:  880.9229762738698 \n",
      "\n",
      "theta, phi:  (0.0, -0.17101503611120278) \n",
      "\n"
     ]
    }
   ],
   "source": [
    "R_index = 20 #The max distance from the galactic center to which we keep the particles, done to speed up the calculations.\n",
    "\n",
    "R_gas = np.sqrt(x_gas**2 + y_gas**2 + z_gas**2)\n",
    "\n",
    "index_gas = np.where(\n",
    "    (R_gas < R_index) &\n",
    "    (abs(z_gas) < 5)\n",
    ")\n",
    "\n",
    "R_star = np.sqrt(x_star**2 + y_star**2 + z_star**2)\n",
    "index_star = np.where(\n",
    "    (R_star < R_index) &\n",
    "    (abs(z_star) < 5)\n",
    ")\n",
    "\n",
    "\n",
    "Total_gas_mass_fraction = np.sum(gas_mass)/(np.sum(gas_mass) + np.sum(stellar_mass))\n",
    "\n",
    "theta, phi = funcs.angular_momentum(R_index, gas_mass, x_gas, y_gas, z_gas, vx_gas, vy_gas, vz_gas)\n",
    "\n",
    "x_gas, y_gas, z_gas = funcs.rotation(theta, phi, x_gas, y_gas, z_gas)\n",
    "\n",
    "vx_gas, vy_gas, vz_gas = funcs.rotation(theta, phi, vx_gas, vy_gas, vz_gas)\n",
    "\n",
    "theta_new, phi_new = funcs.angular_momentum(R_index, gas_mass, x_gas, y_gas, z_gas, vx_gas, vy_gas, vz_gas)\n",
    "\n",
    "x_gas, y_gas, z_gas = x_gas[index_gas], y_gas[index_gas], z_gas[index_gas]\n",
    "\n",
    "gas_mass, smoothing_gas, gas_density = gas_mass[index_gas], smoothing_gas[index_gas], gas_density[index_gas]\n",
    "\n",
    "R_gas = R_gas[index_gas]\n",
    "\n",
    "total_metallicity = total_metallicity[index_gas]\n",
    "\n",
    "SFR = SFR[index_gas]\n",
    "\n",
    "internal_energy = internal_energy[index_gas] \n",
    "helium_mass_fraction = helium_mass_fraction[index_gas]\n",
    "electron_abundance = electron_abundance[index_gas] \n",
    "\n",
    "\n",
    "R_star = R_star[index_star] \n",
    "\n",
    "stellar_mass = stellar_mass[index_star]\t\n",
    "\n",
    "star_age = star_age[index_star] \n",
    "\n",
    "\n"
   ]
  },
  {
   "cell_type": "code",
   "execution_count": 5,
   "id": "1ecf1c86",
   "metadata": {},
   "outputs": [],
   "source": [
    "# ##########################################################################\n",
    "# n_bins = 2*R_index + 1\n",
    "\n",
    "\n",
    "# radius_bins = np.linspace(0, R_index, n_bins)\n",
    "\n",
    "# radius_center_bins = np.linspace(0, R_index, n_bins-1)\n",
    "\n",
    "# annulus_area = np.pi*(radius_bins[1:]**2 - radius_bins[:-1]**2)\n",
    "\n",
    "\n",
    "# digitized_gas = np.digitize(R_gas, radius_bins)\n",
    "\n",
    "# digitized_star = np.digitize(R_star, radius_bins) \n",
    "\n",
    "# gas_mass_digitized = np.asarray([gas_mass[digitized_gas == i].sum() for i in range(1, len(radius_bins))])\n",
    "\n",
    "# sigma_gas = np.asarray([gas_mass[digitized_gas == i].sum()/annulus_area[i-1] for i in range(1, len(radius_bins))])*1.e10/1.e6\n",
    "\n",
    "# sigma_SFR = np.asarray([SFR[digitized_gas == i].sum()/annulus_area[i-1] for i in range(1, len(radius_bins))])\n",
    "\n",
    "# radial_velocity = vx_gas*np.cos(phi)*np.sin(theta)+vy_gas*np.sin(phi)*np.sin(theta)+vz_gas*np.cos(theta)"
   ]
  },
  {
   "cell_type": "code",
   "execution_count": 6,
   "id": "224f9389",
   "metadata": {},
   "outputs": [],
   "source": [
    "Z_prime = total_metallicity/solar_metallicity\n",
    "\n",
    "\n",
    "h2_fraction, tau_c, local_column_density  = funcs.return_h2_fraction_doga(gas_density, smoothing_gas, Z_prime, 1/4)\n",
    "mass_h2      \t\t\t= gas_mass*h2_fraction\n",
    "\n",
    "h2_mass_total \t\t= np.sum(mass_h2)\n",
    "\n",
    "gas_mass_total          = np.sum(gas_mass)  #gas mass in R_index kpc from the center (in 10^10 M_sun)\n",
    "SFR_total\t\t\t    = np.sum(SFR) #SFR in R_index kpc from the center (in units of M_sun/year )  "
   ]
  },
  {
   "cell_type": "code",
   "execution_count": 7,
   "id": "33e450ec",
   "metadata": {},
   "outputs": [
    {
     "data": {
      "image/png": "[encoded data removed]",
      "text/plain": [
       "<Figure size 432x288 with 1 Axes>"
      ]
     },
     "metadata": {
      "needs_background": "light"
     },
     "output_type": "display_data"
    }
   ],
   "source": [
    "bins = np.linspace(0,1,100)\n",
    "plt.hist(h2_fraction, bins=bins)\n",
    "plt.xlabel(\"fh2\")\n",
    "plt.ylabel(\"count\")\n",
    "plt.yscale(\"log\")\n",
    "plt.show()\n",
    "\n",
    "\n",
    "# bins = np.linspace(0.5,4,100)\n",
    "# plt.hist(np.log10(smoothing_gas * 1e3), bins=bins)\n",
    "# plt.xlabel(\"smoothing length log10(pc)\")\n",
    "# plt.ylabel(\"count\")\n",
    "# plt.yscale(\"log\")\n",
    "# plt.show()\n",
    "\n",
    "\n",
    "# bins = np.linspace(0.5,4,100)\n",
    "# plt.hist(tau_c)\n",
    "# plt.xlabel(\"optical depth\")\n",
    "# plt.ylabel(\"count\")\n",
    "# plt.yscale(\"log\")\n",
    "# plt.show()\n"
   ]
  },
  {
   "cell_type": "code",
   "execution_count": 8,
   "id": "a847973f",
   "metadata": {},
   "outputs": [],
   "source": [
    "# # Save it to a file \n",
    "# np.savetxt(\"gunjan_m12i_res7100_md_fh2.txt\", h2_fraction)"
   ]
  },
  {
   "cell_type": "code",
   "execution_count": 9,
   "id": "9d6f6c9b",
   "metadata": {},
   "outputs": [],
   "source": [
    "# plt.hist2d(\n",
    "#     x = x_gas, \n",
    "#     y = y_gas, \n",
    "#     bins = 1024, \n",
    "#     norm = LogNorm()\n",
    "# )\n",
    "# plt.show()"
   ]
  },
  {
   "cell_type": "code",
   "execution_count": 39,
   "id": "0e58a9cc",
   "metadata": {},
   "outputs": [
    {
     "name": "stdout",
     "output_type": "stream",
     "text": [
      "Total Gas Mass:  0.7783943000016118 x 1e10\n",
      "Total SFR:  2.1523869328957517\n",
      "Total Mh2:  0.005580279980505257 x 1e10\n"
     ]
    }
   ],
   "source": [
    "print('Total Gas Mass: ', np.sum(gas_mass), 'x 1e10')\n",
    "print('Total SFR: ', np.sum(SFR))\n",
    "print('Total Mh2: ', np.sum(mass_h2), 'x 1e10')"
   ]
  },
  {
   "cell_type": "markdown",
   "id": "3f382214",
   "metadata": {},
   "source": [
    "# Lco calculation"
   ]
  },
  {
   "cell_type": "code",
   "execution_count": 17,
   "id": "552ba40d",
   "metadata": {},
   "outputs": [],
   "source": [
    "def X_co_calculator_doga(\n",
    "    h2_column_density, \n",
    "    metallicity, \n",
    "):\n",
    "    print(\"I am in the function X_co_calculator\")\n",
    "\n",
    "    \"\"\"This function is being used in order to calculate the X_co for each annulus\n",
    "\n",
    "    Arguments:\n",
    "    ----------\n",
    "    h2_column_density: array-like\n",
    "        h2_column_density for each particle \n",
    "        [gr/cm^2]\n",
    "\n",
    "    metallicity: array-like\n",
    "        [Zsolar]\n",
    "\n",
    "    Returns:\n",
    "    ----------\n",
    "    X_co: vector \n",
    "        CO conversion factor for each particle\n",
    "        [cm^-2 /K-km s^-1]\n",
    "        \n",
    "    X_co_solar_metallicity: vector\n",
    "        X_co when metallicity is set to solar metallicity\n",
    "        [cm^-2 /K-km s^-1]\n",
    "\n",
    "    References: \n",
    "    -----------\n",
    "    A general model for the CO-H2 conversion factor in galaxies with applications to the star formation law. (Narayanan et al. 2012)\n",
    "\n",
    "    \"\"\" \n",
    "\n",
    "\n",
    "    h2_column_density = h2_column_density * gr2M_sun / (cm2pc)**2   \n",
    "    # h2_column_density [M_sun/pc^2]\n",
    "\n",
    "    # A general model for the CO-H2 conversion factor in galaxies with applications to the star formation law. (Narayanan et al. 2012)\n",
    "    # Eq 6 \n",
    "\n",
    "    X_co = 1.3e21/(metallicity * h2_column_density**0.5) #[cm^-2 /K-km s^-1]\n",
    "\n",
    "    ####    \n",
    "\n",
    "    solar_metallicity = 0.02\n",
    "    X_co_solar_metallicity = 1.3e21/(solar_metallicity * h2_column_density**0.5) #[cm^-2 /K-km s^-1]\n",
    "\n",
    "    # Set inf values to NaN\n",
    "    # Replace inf/-inf with NaN\n",
    "    X_co[np.isinf(X_co)] = np.nan\n",
    "    X_co_solar_metallicity[np.isinf(X_co_solar_metallicity)] = np.nan\n",
    "    \n",
    "    \n",
    "    return X_co, X_co_solar_metallicity\n"
   ]
  },
  {
   "cell_type": "code",
   "execution_count": 34,
   "id": "4ec5ff79",
   "metadata": {},
   "outputs": [
    {
     "data": {
      "text/plain": [
       "array([0.19159151, 0.13734193, 0.12811109, ..., 0.03485559, 0.04979133,\n",
       "       0.05683971])"
      ]
     },
     "execution_count": 34,
     "metadata": {},
     "output_type": "execute_result"
    }
   ],
   "source": []
  },
  {
   "cell_type": "code",
   "execution_count": 45,
   "id": "ea60f105",
   "metadata": {},
   "outputs": [
    {
     "name": "stdout",
     "output_type": "stream",
     "text": [
      "I am in the function X_co_calculator\n"
     ]
    },
    {
     "name": "stderr",
     "output_type": "stream",
     "text": [
      "/tmp/ipykernel_828373/384724857.py:41: RuntimeWarning: divide by zero encountered in true_divide\n",
      "  X_co = 1.3e21/(metallicity * h2_column_density**0.5) #[cm^-2 /K-km s^-1]\n",
      "/tmp/ipykernel_828373/384724857.py:46: RuntimeWarning: divide by zero encountered in true_divide\n",
      "  X_co_solar_metallicity = 1.3e21/(solar_metallicity * h2_column_density**0.5) #[cm^-2 /K-km s^-1]\n"
     ]
    }
   ],
   "source": [
    "# h2_column_density = mass_h2 / smoothing_gas # Smoothing gas is used instead of column density\n",
    "h2_column_density = local_column_density * h2_fraction # Smoothing gas is used in both calculations \n",
    "# Unit coversion\n",
    "h2_column_density = h2_column_density * M_sun2gr / pc2cm**2 # [gr / pc^2]\n",
    "\n",
    "X_co, X_co_solar_metallicity  = X_co_calculator_doga(\n",
    "    h2_column_density = h2_column_density, \n",
    "    metallicity = Z_prime, \n",
    ")\n",
    "\n",
    "# Calculating Lco\n",
    "alfa_co = X_co / 6.3e19 # [M_solar/pc^-2 (K-km s^-1)^-1]\n",
    "\n",
    "L_co = mass_h2 * 1e10 / alfa_co \n",
    "\n"
   ]
  },
  {
   "cell_type": "code",
   "execution_count": 46,
   "id": "d660ea1a",
   "metadata": {},
   "outputs": [
    {
     "data": {
      "image/png": "[encoded data removed]",
      "text/plain": [
       "<Figure size 432x288 with 1 Axes>"
      ]
     },
     "metadata": {
      "needs_background": "light"
     },
     "output_type": "display_data"
    },
    {
     "data": {
      "image/png": "[encoded data removed]",
      "text/plain": [
       "<Figure size 432x288 with 1 Axes>"
      ]
     },
     "metadata": {
      "needs_background": "light"
     },
     "output_type": "display_data"
    },
    {
     "data": {
      "image/png": "[encoded data removed]",
      "text/plain": [
       "<Figure size 432x288 with 1 Axes>"
      ]
     },
     "metadata": {
      "needs_background": "light"
     },
     "output_type": "display_data"
    }
   ],
   "source": [
    "plt.hist(h2_column_density, bins=np.linspace(1e-2, 1, 100))\n",
    "plt.xlabel(\"h2_column_density\")\n",
    "plt.show()\n",
    "\n",
    "plt.hist(alfa_co, bins=np.linspace(0, 1000, 100))\n",
    "plt.xlabel(\"alpha_co\")\n",
    "plt.show()\n",
    "\n",
    "plt.hist(mass_h2, bins=100)\n",
    "plt.xlabel(\"mass_h2\")\n",
    "plt.yscale(\"log\")\n",
    "plt.show()\n"
   ]
  },
  {
   "cell_type": "code",
   "execution_count": 48,
   "id": "5182beb4",
   "metadata": {},
   "outputs": [
    {
     "data": {
      "image/png": "[encoded data removed]",
      "text/plain": [
       "<Figure size 432x288 with 1 Axes>"
      ]
     },
     "metadata": {
      "needs_background": "light"
     },
     "output_type": "display_data"
    }
   ],
   "source": [
    "bins=np.linspace(-1, 5, 100)\n",
    "plt.hist(np.log10(L_co), bins=bins)\n",
    "plt.xlabel(\"Lco K-km s^-1 pc^2\")\n",
    "plt.ylabel(\"Count\")\n",
    "plt.yscale(\"log\")\n",
    "plt.show()"
   ]
  },
  {
   "cell_type": "code",
   "execution_count": 53,
   "id": "b0c21ab8",
   "metadata": {},
   "outputs": [
    {
     "data": {
      "text/plain": [
       "5.288040218904299"
      ]
     },
     "execution_count": 53,
     "metadata": {},
     "output_type": "execute_result"
    }
   ],
   "source": [
    "np.nansum(L_co) / 1e6"
   ]
  }
 ],
 "metadata": {
  "kernelspec": {
   "display_name": "Python 3 (ipykernel)",
   "language": "python",
   "name": "python3"
  },
  "language_info": {
   "codemirror_mode": {
    "name": "ipython",
    "version": 3
   },
   "file_extension": ".py",
   "mimetype": "text/x-python",
   "name": "python",
   "nbconvert_exporter": "python",
   "pygments_lexer": "ipython3",
   "version": "3.10.2"
  }
 },
 "nbformat": 4,
 "nbformat_minor": 5
}
