{
 "cells": [
  {
   "cell_type": "code",
   "execution_count": 1,
   "id": "d3168c35",
   "metadata": {},
   "outputs": [],
   "source": [
    "import numpy as np\n",
    "import matplotlib.pyplot as plt\n",
    "from scipy.stats import *\n",
    "from scipy.spatial import *\n",
    "from scipy.linalg import *\n",
    "import matplotlib\n",
    "from matplotlib import rcParams\n",
    "import glob\n",
    "import funcs\n",
    "import readsnap\n",
    "\n",
    "\n",
    "\n",
    "M_sun      = 1.99e33   # in gms \n",
    "kpc        = 3.08e21   # in cms \n",
    "pc         = kpc/1.e3\n",
    "k_b        = 1.380e-16 # in erg K^(-1)\n",
    "m_proton   = 1.672e-24 # in gms \n",
    "gamma      = 5./3      # adiabatic index \n",
    "omega_m    = 0.272\n",
    "omega_b    = 0.0455\n",
    "omega_c    = omega_m - omega_b\n",
    "sigma_dust = 5.e-22    # cm^(2) g^(-1)]] \n",
    "h          = 0.7       # Hubble_parameter\n",
    "solar_metallicity = 0.02 #solar mass fraction\n"
   ]
  },
  {
   "cell_type": "code",
   "execution_count": 5,
   "id": "e36d17a7",
   "metadata": {},
   "outputs": [],
   "source": [
    "snapshot_i = 120\n",
    "snapshot_f = 120\n",
    "nsteps = 1 #SPECIFY THE LOOP STEP FOR SNAPSHOTS\n",
    "\n",
    "#file_dir = '/mnt/scratch-lustre/lakhlani/m12b_res56000/output/' \n",
    "\n",
    "#file_dir = '/mnt/scratch-lustre/lakhlani/m13_mr_Dec16_2013/'\n",
    "\n",
    "file_dir = '/mnt/scratch-lustre/lakhlani/FIRE2_core/m12i_res7100_md/output'"
   ]
  },
  {
   "cell_type": "code",
   "execution_count": 8,
   "id": "fff669e6",
   "metadata": {},
   "outputs": [
    {
     "name": "stdout",
     "output_type": "stream",
     "text": [
      "120\n",
      "{'k': -1}\n"
     ]
    },
    {
     "ename": "KeyError",
     "evalue": "'time'",
     "output_type": "error",
     "traceback": [
      "\u001b[0;31m---------------------------------------------------------------------------\u001b[0m",
      "\u001b[0;31mKeyError\u001b[0m                                  Traceback (most recent call last)",
      "Input \u001b[0;32mIn [8]\u001b[0m, in \u001b[0;36m<module>\u001b[0;34m\u001b[0m\n\u001b[1;32m      7\u001b[0m header_info \u001b[38;5;241m=\u001b[39m readsnap\u001b[38;5;241m.\u001b[39mreadsnap(file_dir, snapshot, \u001b[38;5;241m0\u001b[39m ,cosmological\u001b[38;5;241m=\u001b[39m\u001b[38;5;241m1\u001b[39m,  header_only \u001b[38;5;241m=\u001b[39m \u001b[38;5;241m1\u001b[39m)\n\u001b[1;32m      9\u001b[0m \u001b[38;5;28mprint\u001b[39m(header_info)\n\u001b[0;32m---> 11\u001b[0m scale_factor \u001b[38;5;241m=\u001b[39m \u001b[43mheader_info\u001b[49m\u001b[43m[\u001b[49m\u001b[38;5;124;43m'\u001b[39;49m\u001b[38;5;124;43mtime\u001b[39;49m\u001b[38;5;124;43m'\u001b[39;49m\u001b[43m]\u001b[49m\n\u001b[1;32m     12\u001b[0m hubble_run \u001b[38;5;241m=\u001b[39m header_info[\u001b[38;5;124m'\u001b[39m\u001b[38;5;124mhubble\u001b[39m\u001b[38;5;124m'\u001b[39m]\n\u001b[1;32m     13\u001b[0m redshift \u001b[38;5;241m=\u001b[39m header_info[\u001b[38;5;124m'\u001b[39m\u001b[38;5;124mredshift\u001b[39m\u001b[38;5;124m'\u001b[39m]\n",
      "\u001b[0;31mKeyError\u001b[0m: 'time'"
     ]
    }
   ],
   "source": [
    "for snapshot in range(snapshot_i, snapshot_f+1, nsteps):\n",
    "        snapshot = '%03d' %snapshot\n",
    "        P = readsnap.readsnap(file_dir, snapshot, 0, cosmological=1, loud = 1 )\n",
    "        P_star = readsnap.readsnap(file_dir, snapshot, 4, cosmological = 1)\n",
    "        P_dm = readsnap.readsnap(file_dir, snapshot, 1, cosmological = 1 )\n",
    "        header_info = readsnap.readsnap(file_dir, snapshot, 0 ,cosmological=1,  header_only = 1)\n",
    "        \n",
    "        print(header_info)\n",
    "        \n",
    "        scale_factor = header_info['time']\n",
    "        hubble_run = header_info['hubble']\n",
    "        redshift = header_info['redshift']    "
   ]
  }
 ],
 "metadata": {
  "kernelspec": {
   "display_name": "Python 3 (ipykernel)",
   "language": "python",
   "name": "python3"
  },
  "language_info": {
   "codemirror_mode": {
    "name": "ipython",
    "version": 3
   },
   "file_extension": ".py",
   "mimetype": "text/x-python",
   "name": "python",
   "nbconvert_exporter": "python",
   "pygments_lexer": "ipython3",
   "version": "3.10.2"
  }
 },
 "nbformat": 4,
 "nbformat_minor": 5
}
